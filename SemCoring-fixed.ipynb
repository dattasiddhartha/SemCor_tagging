{
 "cells": [
  {
   "cell_type": "code",
   "execution_count": 1,
   "metadata": {},
   "outputs": [],
   "source": [
    "from nltk.corpus import semcor"
   ]
  },
  {
   "cell_type": "code",
   "execution_count": 2,
   "metadata": {},
   "outputs": [],
   "source": [
    "import pandas as pd\n",
    "senses=pd.read_csv(\"sense_export_2.csv\")\n",
    "sentences=pd.read_json(\"export_file_v2.json\").T"
   ]
  },
  {
   "cell_type": "code",
   "execution_count": 3,
   "metadata": {},
   "outputs": [],
   "source": [
    "correct_term2=[]\n",
    "for i in range(len(sentences)):\n",
    "    correct_term2.append(sentences.iloc[i,0].replace(\",\",\"\").replace(\"'\",\"\").replace('\"',\"\").replace('[',\"\").replace(']',\"\"))\n",
    "sentences['correct_term']=correct_term2"
   ]
  },
  {
   "cell_type": "code",
   "execution_count": 4,
   "metadata": {},
   "outputs": [
    {
     "data": {
      "text/html": [
       "<div>\n",
       "<style scoped>\n",
       "    .dataframe tbody tr th:only-of-type {\n",
       "        vertical-align: middle;\n",
       "    }\n",
       "\n",
       "    .dataframe tbody tr th {\n",
       "        vertical-align: top;\n",
       "    }\n",
       "\n",
       "    .dataframe thead th {\n",
       "        text-align: right;\n",
       "    }\n",
       "</style>\n",
       "<table border=\"1\" class=\"dataframe\">\n",
       "  <thead>\n",
       "    <tr style=\"text-align: right;\">\n",
       "      <th></th>\n",
       "      <th>0</th>\n",
       "      <th>1</th>\n",
       "      <th>correct_term</th>\n",
       "    </tr>\n",
       "  </thead>\n",
       "  <tbody>\n",
       "    <tr>\n",
       "      <th>0</th>\n",
       "      <td>fawn</td>\n",
       "      <td>[19683]</td>\n",
       "      <td>fawn</td>\n",
       "    </tr>\n",
       "    <tr>\n",
       "      <th>1</th>\n",
       "      <td></td>\n",
       "      <td>[20466]</td>\n",
       "      <td></td>\n",
       "    </tr>\n",
       "    <tr>\n",
       "      <th>2</th>\n",
       "      <td>fredrikshall</td>\n",
       "      <td>[13871]</td>\n",
       "      <td>fredrikshall</td>\n",
       "    </tr>\n",
       "    <tr>\n",
       "      <th>3</th>\n",
       "      <td>wrought-iron</td>\n",
       "      <td>[17423]</td>\n",
       "      <td>wrought-iron</td>\n",
       "    </tr>\n",
       "    <tr>\n",
       "      <th>4</th>\n",
       "      <td>woods</td>\n",
       "      <td>[1252, 1253, 1263, 7212, 7213, 10677, 18499, 2...</td>\n",
       "      <td>woods</td>\n",
       "    </tr>\n",
       "  </tbody>\n",
       "</table>\n",
       "</div>"
      ],
      "text/plain": [
       "              0                                                  1  \\\n",
       "0          fawn                                            [19683]   \n",
       "1                                                          [20466]   \n",
       "2  fredrikshall                                            [13871]   \n",
       "3  wrought-iron                                            [17423]   \n",
       "4         woods  [1252, 1253, 1263, 7212, 7213, 10677, 18499, 2...   \n",
       "\n",
       "   correct_term  \n",
       "0          fawn  \n",
       "1                \n",
       "2  fredrikshall  \n",
       "3  wrought-iron  \n",
       "4         woods  "
      ]
     },
     "execution_count": 4,
     "metadata": {},
     "output_type": "execute_result"
    }
   ],
   "source": [
    "sentences.head()"
   ]
  },
  {
   "cell_type": "code",
   "execution_count": 5,
   "metadata": {},
   "outputs": [
    {
     "data": {
      "text/html": [
       "<div>\n",
       "<style scoped>\n",
       "    .dataframe tbody tr th:only-of-type {\n",
       "        vertical-align: middle;\n",
       "    }\n",
       "\n",
       "    .dataframe tbody tr th {\n",
       "        vertical-align: top;\n",
       "    }\n",
       "\n",
       "    .dataframe thead th {\n",
       "        text-align: right;\n",
       "    }\n",
       "</style>\n",
       "<table border=\"1\" class=\"dataframe\">\n",
       "  <thead>\n",
       "    <tr style=\"text-align: right;\">\n",
       "      <th></th>\n",
       "      <th>Unnamed: 0</th>\n",
       "      <th>0</th>\n",
       "    </tr>\n",
       "  </thead>\n",
       "  <tbody>\n",
       "    <tr>\n",
       "      <th>0</th>\n",
       "      <td>0</td>\n",
       "      <td>'group.n.01.group'</td>\n",
       "    </tr>\n",
       "    <tr>\n",
       "      <th>1</th>\n",
       "      <td>1</td>\n",
       "      <td>'state.v.01.say'</td>\n",
       "    </tr>\n",
       "    <tr>\n",
       "      <th>2</th>\n",
       "      <td>2</td>\n",
       "      <td>'friday.n.01.Friday'</td>\n",
       "    </tr>\n",
       "    <tr>\n",
       "      <th>3</th>\n",
       "      <td>3</td>\n",
       "      <td>'probe.n.01.investigation'</td>\n",
       "    </tr>\n",
       "    <tr>\n",
       "      <th>4</th>\n",
       "      <td>4</td>\n",
       "      <td>'atlanta.n.01.Atlanta'</td>\n",
       "    </tr>\n",
       "  </tbody>\n",
       "</table>\n",
       "</div>"
      ],
      "text/plain": [
       "   Unnamed: 0                           0\n",
       "0           0          'group.n.01.group'\n",
       "1           1            'state.v.01.say'\n",
       "2           2        'friday.n.01.Friday'\n",
       "3           3  'probe.n.01.investigation'\n",
       "4           4      'atlanta.n.01.Atlanta'"
      ]
     },
     "execution_count": 5,
     "metadata": {},
     "output_type": "execute_result"
    }
   ],
   "source": [
    "senses.head()"
   ]
  },
  {
   "cell_type": "code",
   "execution_count": null,
   "metadata": {},
   "outputs": [],
   "source": [
    "fulllist=[]\n",
    "for item in sentences['correct_term']:\n",
    "    templist=[]\n",
    "    for sense in senses['0']:\n",
    "        if item in sense:\n",
    "            templist.append(sense)\n",
    "    fulllist.append(templist)"
   ]
  },
  {
   "cell_type": "code",
   "execution_count": null,
   "metadata": {},
   "outputs": [],
   "source": [
    "fulllist"
   ]
  },
  {
   "cell_type": "code",
   "execution_count": null,
   "metadata": {},
   "outputs": [],
   "source": [
    "sentences['sense_tag_list']=fulllist"
   ]
  },
  {
   "cell_type": "code",
   "execution_count": null,
   "metadata": {},
   "outputs": [],
   "source": [
    "sentences.to_csv(\"sentences_taggedsense_v2.csv\")"
   ]
  },
  {
   "cell_type": "code",
   "execution_count": null,
   "metadata": {},
   "outputs": [],
   "source": [
    "sentences.head()[1]"
   ]
  },
  {
   "cell_type": "code",
   "execution_count": null,
   "metadata": {},
   "outputs": [],
   "source": []
  },
  {
   "cell_type": "code",
   "execution_count": null,
   "metadata": {},
   "outputs": [],
   "source": [
    "cdi=pd.read_csv(\"cdi_WS_wordNetSenses.csv\")\n",
    "# cdi=cdi.iloc[15:19,:]"
   ]
  },
  {
   "cell_type": "code",
   "execution_count": null,
   "metadata": {},
   "outputs": [],
   "source": [
    "# senses['0'].head()\n",
    "cdi"
   ]
  },
  {
   "cell_type": "code",
   "execution_count": null,
   "metadata": {
    "scrolled": true
   },
   "outputs": [],
   "source": [
    "import itertools\n",
    "cdi_counterlist=[]\n",
    "\n",
    "# for index, row in cdi.iterrows():\n",
    "#     trigger=False\n",
    "#     for index2, row2 in sentences.iterrows():\n",
    "#         while trigger==False:\n",
    "#             if row2['correct_term']==row['word']:\n",
    "#                 print(row2['correct_term'],row['word'])\n",
    "#                 trigger=True\n",
    "\n",
    "example_sentences=[]\n",
    "for index, row in cdi.iterrows():\n",
    "    word=row['word']\n",
    "    sentences_ref=sentences[sentences['correct_term']==word]\n",
    "#     print(list(sentences_ref['sense_tag_list'])[0])\n",
    "#     print(row['name']+'.'+row['word'])\n",
    "    try:\n",
    "        index_ref=list(sentences_ref['sense_tag_list'])[0].index(\"'\"+row['name']+'.'+row['word']+\"'\")\n",
    "        real_index=list(sentences_ref[1])[0][index_ref]\n",
    "        string = str()\n",
    "        for i in semcor.sents()[real_index]:\n",
    "            string+=i\n",
    "            string+=str(\" \")\n",
    "        sentence_to_be_printed=string\n",
    "    except:\n",
    "        sentence_to_be_printed=[]\n",
    "    example_sentences.append(sentence_to_be_printed)\n",
    "# example_sentences"
   ]
  },
  {
   "cell_type": "code",
   "execution_count": null,
   "metadata": {},
   "outputs": [],
   "source": [
    "# import itertools\n",
    "# cdi_counterlist=[]\n",
    "\n",
    "# # for index, row in cdi.iterrows():\n",
    "# #     trigger=False\n",
    "# #     for index2, row2 in sentences.iterrows():\n",
    "# #         while trigger==False:\n",
    "# #             if row2['correct_term']==row['word']:\n",
    "# #                 print(row2['correct_term'],row['word'])\n",
    "# #                 trigger=True\n",
    "\n",
    "# example_sentences=[]\n",
    "# for index, row in cdi.iterrows():\n",
    "#     word=row['word']\n",
    "#     sentences_ref=sentences[sentences['correct_term']==word]\n",
    "# #     print(list(sentences_ref['sense_tag_list'])[0])\n",
    "# #     print(row['name']+'.'+row['word'])\n",
    "#     try:\n",
    "#         index_ref=list(sentences_ref['sense_tag_list'])[0].index(\"'\"+row['name']+'.'+row['word']+\"'\")\n",
    "#         real_index=list(sentences_ref[1])[0][index_ref]\n",
    "#         sentence_to_be_printed=semcor.sents()[real_index]\n",
    "#     except:\n",
    "#         sentence_to_be_printed=[]\n",
    "#     example_sentences.append(sentence_to_be_printed)\n",
    "# # example_sentences"
   ]
  },
  {
   "cell_type": "code",
   "execution_count": null,
   "metadata": {},
   "outputs": [],
   "source": [
    "cdi['semcor_examples']=example_sentences"
   ]
  },
  {
   "cell_type": "code",
   "execution_count": null,
   "metadata": {},
   "outputs": [],
   "source": [
    "cdi.to_csv(\"cdi_semcored_v3.csv\")"
   ]
  },
  {
   "cell_type": "code",
   "execution_count": null,
   "metadata": {},
   "outputs": [],
   "source": [
    "string = str()\n",
    "for i in example_sentences[125]:\n",
    "    string+=i\n",
    "    string+=str(\" \")\n",
    "print(string)\n",
    "# example_sentences[2]"
   ]
  },
  {
   "cell_type": "code",
   "execution_count": null,
   "metadata": {},
   "outputs": [],
   "source": []
  },
  {
   "cell_type": "code",
   "execution_count": null,
   "metadata": {},
   "outputs": [],
   "source": [
    "cdi_counterlist"
   ]
  },
  {
   "cell_type": "code",
   "execution_count": null,
   "metadata": {},
   "outputs": [],
   "source": [
    "index=list(sentences[sentences['correct_term']=='duck'][1])[0][2]"
   ]
  },
  {
   "cell_type": "code",
   "execution_count": null,
   "metadata": {
    "scrolled": true
   },
   "outputs": [],
   "source": [
    "sentences[sentences['correct_term']=='duck']"
   ]
  },
  {
   "cell_type": "code",
   "execution_count": null,
   "metadata": {},
   "outputs": [],
   "source": [
    "semcor.sents()[18734]\n",
    "# semcor.sents()[index]"
   ]
  },
  {
   "cell_type": "code",
   "execution_count": null,
   "metadata": {},
   "outputs": [],
   "source": [
    "import pandas as pd\n",
    "dd=pd.read_csv(\"sentences_taggedsense_v2.csv\")"
   ]
  },
  {
   "cell_type": "code",
   "execution_count": null,
   "metadata": {},
   "outputs": [],
   "source": [
    "semcor.sents()[4098]"
   ]
  },
  {
   "cell_type": "code",
   "execution_count": null,
   "metadata": {},
   "outputs": [],
   "source": [
    "dd"
   ]
  }
 ],
 "metadata": {
  "kernelspec": {
   "display_name": "DataX Python3.6",
   "language": "python",
   "name": "python3"
  },
  "language_info": {
   "codemirror_mode": {
    "name": "ipython",
    "version": 3
   },
   "file_extension": ".py",
   "mimetype": "text/x-python",
   "name": "python",
   "nbconvert_exporter": "python",
   "pygments_lexer": "ipython3",
   "version": "3.6.6"
  }
 },
 "nbformat": 4,
 "nbformat_minor": 2
}
